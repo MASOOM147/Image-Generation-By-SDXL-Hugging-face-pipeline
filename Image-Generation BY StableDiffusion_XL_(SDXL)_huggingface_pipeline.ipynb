{
  "nbformat": 4,
  "nbformat_minor": 0,
  "metadata": {
    "colab": {
      "provenance": [],
      "gpuType": "T4"
    },
    "kernelspec": {
      "name": "python3",
      "display_name": "Python 3"
    },
    "language_info": {
      "name": "python"
    },
    "accelerator": "GPU"
  },
  "cells": [
    {
      "cell_type": "code",
      "source": [
        "!pip install invisible_watermark transformers accelerate safetensors"
      ],
      "metadata": {
        "id": "jkjRFKJQ6L_f"
      },
      "execution_count": null,
      "outputs": []
    },
    {
      "cell_type": "code",
      "source": [
        "from diffusers import DiffusionPipeline\n",
        "import torch\n",
        "\n",
        "pipe = DiffusionPipeline.from_pretrained(\"stabilityai/stable-diffusion-xl-base-1.0\", torch_dtype=torch.float16, use_safetensors=True, variant=\"fp16\")\n",
        "pipe.to(\"cuda\")\n",
        "\n",
        "# if using torch < 2.0\n",
        "# pipe.enable_xformers_memory_efficient_attention()\n"
      ],
      "metadata": {
        "id": "5NsZXNum6S3e"
      },
      "execution_count": null,
      "outputs": []
    },
    {
      "cell_type": "code",
      "execution_count": null,
      "metadata": {
        "id": "EY-SdPdUNB_1"
      },
      "outputs": [],
      "source": [
        "#can enable if low GPU or using cpu\n",
        "#pipe.enable_attention_slicing()"
      ]
    },
    {
      "cell_type": "code",
      "source": [
        "prompt = \"\"\n",
        "image = pipe(prompt).images[0]\n",
        "image"
      ],
      "metadata": {
        "id": "uRbhTYfpqg82"
      },
      "execution_count": null,
      "outputs": []
    },
    {
      "cell_type": "code",
      "execution_count": null,
      "metadata": {
        "id": "5JlI92FaNbt4"
      },
      "outputs": [],
      "source": [
        "prompt = \"Long-exposure photograph of a busy intersection at night, capturing the streaks of light from moving vehicles\"\n",
        "image = pipe(prompt).images[0]\n",
        "image"
      ]
    },
    {
      "cell_type": "code",
      "execution_count": null,
      "metadata": {
        "id": "PZ-jutfRLADM"
      },
      "outputs": [],
      "source": [
        "import torch\n",
        "\n",
        "prompt = \"Portrait of a child playing in a park, using natural lighting and candid expressions\"\n",
        "generator = torch.Generator(\"cuda\").manual_seed(1024)\n",
        "image = pipe(prompt, generator=generator).images[0]\n",
        "\n",
        "image"
      ]
    },
    {
      "cell_type": "code",
      "execution_count": null,
      "metadata": {
        "id": "yNlgENUELESm"
      },
      "outputs": [],
      "source": [
        "import torch\n",
        "\n",
        "generator = torch.Generator(\"cuda\").manual_seed(1024)\n",
        "\n",
        "image = pipe(prompt, num_inference_steps=15, generator=generator).images[0]\n",
        "\n",
        "image"
      ]
    },
    {
      "cell_type": "markdown",
      "metadata": {
        "id": "6ZcgsflpBoEM"
      },
      "source": [
        "\n",
        "\n",
        "Let's first write a helper function to display a grid of images. Just run the following cell to create the `image_grid` function, or disclose the code if you are interested in how it's done."
      ]
    },
    {
      "cell_type": "code",
      "execution_count": null,
      "metadata": {
        "id": "REF_yuHprSa1"
      },
      "outputs": [],
      "source": [
        "from PIL import Image\n",
        "\n",
        "def image_grid(imgs, rows, cols):\n",
        "    assert len(imgs) == rows*cols\n",
        "\n",
        "    w, h = imgs[0].size\n",
        "    grid = Image.new('RGB', size=(cols*w, rows*h))\n",
        "    grid_w, grid_h = grid.size\n",
        "\n",
        "    for i, img in enumerate(imgs):\n",
        "        grid.paste(img, box=(i%cols*w, i//cols*h))\n",
        "    return grid"
      ]
    },
    {
      "cell_type": "code",
      "execution_count": null,
      "metadata": {
        "id": "GtNL1hivLYmL"
      },
      "outputs": [],
      "source": []
    },
    {
      "cell_type": "code",
      "execution_count": null,
      "metadata": {
        "id": "-YAFLvWWrSdM"
      },
      "outputs": [],
      "source": [
        "num_images = 3\n",
        "prompt = [\"Realistic painting of a quiet moment between a child and their pet, with an emphasis on expression and mood\"] * num_images\n",
        "\n",
        "images = pipe(prompt).images\n",
        "\n",
        "grid = image_grid(images, rows=1, cols=3)\n",
        "grid"
      ]
    },
    {
      "cell_type": "markdown",
      "metadata": {
        "id": "Zj-3lCCWYtMn"
      },
      "source": [
        "And here's how to generate a grid of `n × m` images."
      ]
    },
    {
      "cell_type": "code",
      "execution_count": null,
      "metadata": {
        "id": "Ylscg48YYxfF"
      },
      "outputs": [],
      "source": [
        "num_cols = 3\n",
        "num_rows = 4\n",
        "\n",
        "prompt = [\"Realistic painting of a solitary lighthouse silhouetted against the vibrant colors of a sunset\"] * num_cols\n",
        "\n",
        "all_images = []\n",
        "for i in range(num_rows):\n",
        "  images = pipe(prompt).images\n",
        "  all_images.extend(images)\n",
        "\n",
        "grid = image_grid(all_images, rows=num_rows, cols=num_cols)\n",
        "grid"
      ]
    },
    {
      "cell_type": "code",
      "execution_count": null,
      "metadata": {
        "id": "GobYbx3ILhEi"
      },
      "outputs": [],
      "source": [
        "num_cols = 3\n",
        "num_rows = 4\n",
        "\n",
        "prompt = [\"Portrait of a child playing in a park, using natural lighting and candid expressions\"] * num_cols\n",
        "\n",
        "all_images = []\n",
        "for i in range(num_rows):\n",
        "  images = pipe(prompt).images\n",
        "  all_images.extend(images)\n",
        "\n",
        "grid = image_grid(all_images, rows=num_rows, cols=num_cols)\n",
        "grid"
      ]
    },
    {
      "cell_type": "code",
      "execution_count": null,
      "metadata": {
        "id": "SEkskeayYrZW"
      },
      "outputs": [],
      "source": [
        "num_cols = 3\n",
        "num_rows = 4\n",
        "\n",
        "prompt = [\"Portrait of a military veteran in uniform, with strong, directional lighting\"] * num_cols\n",
        "\n",
        "all_images = []\n",
        "for i in range(num_rows):\n",
        "  images = pipe(prompt).images\n",
        "  all_images.extend(images)\n",
        "\n",
        "grid = image_grid(all_images, rows=num_rows, cols=num_cols)\n",
        "grid"
      ]
    },
    {
      "cell_type": "code",
      "execution_count": null,
      "metadata": {
        "id": "2tdE-MWRY5SE"
      },
      "outputs": [],
      "source": [
        "num_cols = 3\n",
        "num_rows = 4\n",
        "\n",
        "prompt = [\"Portrait of a street performer in action with a bustling city as a blurred background\"] * num_cols\n",
        "\n",
        "all_images = []\n",
        "for i in range(num_rows):\n",
        "  images = pipe(prompt).images\n",
        "  all_images.extend(images)\n",
        "\n",
        "grid = image_grid(all_images, rows=num_rows, cols=num_cols)\n",
        "grid\n"
      ]
    },
    {
      "cell_type": "code",
      "execution_count": null,
      "metadata": {
        "id": "DzPqp0WsaSPz"
      },
      "outputs": [],
      "source": [
        "num_cols = 3\n",
        "num_rows = 4\n",
        "\n",
        "prompt = [\"Stylized portrait of an entrepreneur against a city skyline, with dramatic lighting and a futuristic look\"] * num_cols\n",
        "\n",
        "all_images = []\n",
        "for i in range(num_rows):\n",
        "  images = pipe(prompt).images\n",
        "  all_images.extend(images)\n",
        "\n",
        "grid = image_grid(all_images, rows=num_rows, cols=num_cols)\n",
        "grid\n"
      ]
    },
    {
      "cell_type": "code",
      "execution_count": null,
      "metadata": {
        "id": "bKSCSGsThdOV"
      },
      "outputs": [],
      "source": [
        "num_cols = 3\n",
        "num_rows = 4\n",
        "\n",
        "prompt = [\"Portrait of an old fisherman at sea, using natural light to highlight weathered textures\"] * num_cols\n",
        "\n",
        "all_images = []\n",
        "for i in range(num_rows):\n",
        "  images = pipe(prompt).images\n",
        "  all_images.extend(images)\n",
        "\n",
        "grid = image_grid(all_images, rows=num_rows, cols=num_cols)\n",
        "grid\n"
      ]
    },
    {
      "cell_type": "code",
      "execution_count": null,
      "metadata": {
        "id": "Swfc-APwhGbF"
      },
      "outputs": [],
      "source": [
        "num_cols = 3\n",
        "num_rows = 4\n",
        "\n",
        "prompt = [\"Portrait of a professional dancer expressing emotion through movement, with dramatic lighting\"] * num_cols\n",
        "\n",
        "all_images = []\n",
        "for i in range(num_rows):\n",
        "  images = pipe(prompt).images\n",
        "  all_images.extend(images)\n",
        "\n",
        "grid = image_grid(all_images, rows=num_rows, cols=num_cols)\n",
        "grid\n"
      ]
    },
    {
      "cell_type": "code",
      "execution_count": null,
      "metadata": {
        "colab": {
          "background_save": true
        },
        "id": "iYy3x9sMhKFY"
      },
      "outputs": [],
      "source": [
        "num_cols = 3\n",
        "num_rows = 4\n",
        "\n",
        "prompt = [\"Portrait of a lone hiker on a mountain peak during golden hour\"] * num_cols\n",
        "\n",
        "all_images = []\n",
        "for i in range(num_rows):\n",
        "  images = pipe(prompt).images\n",
        "  all_images.extend(images)\n",
        "\n",
        "grid = image_grid(all_images, rows=num_rows, cols=num_cols)\n",
        "grid\n"
      ]
    },
    {
      "cell_type": "code",
      "execution_count": null,
      "metadata": {
        "colab": {
          "background_save": true
        },
        "id": "AQ-paRiqh7Rj"
      },
      "outputs": [],
      "source": [
        "num_cols = 3\n",
        "num_rows = 4\n",
        "\n",
        "prompt = [\"Action portrait of an athlete during a game, using fast shutter speed and close-up shots\"] * num_cols\n",
        "\n",
        "all_images = []\n",
        "for i in range(num_rows):\n",
        "  images = pipe(prompt).images\n",
        "  all_images.extend(images)\n",
        "\n",
        "grid = image_grid(all_images, rows=num_rows, cols=num_cols)\n",
        "grid\n"
      ]
    },
    {
      "cell_type": "code",
      "execution_count": null,
      "metadata": {
        "id": "mlf2BPmNh8lB"
      },
      "outputs": [],
      "source": [
        "num_cols = 3\n",
        "num_rows = 4\n",
        "\n",
        "prompt = [\"Whimsical portrait of a person in a dreamy, natural environment with soft lighting\"] * num_cols\n",
        "\n",
        "all_images = []\n",
        "for i in range(num_rows):\n",
        "  images = pipe(prompt).images\n",
        "  all_images.extend(images)\n",
        "\n",
        "grid = image_grid(all_images, rows=num_rows, cols=num_cols)\n",
        "grid\n"
      ]
    },
    {
      "cell_type": "code",
      "execution_count": null,
      "metadata": {
        "colab": {
          "background_save": true
        },
        "id": "vqQhgZ_Th9bd"
      },
      "outputs": [],
      "source": [
        "num_cols = 3\n",
        "num_rows = 4\n",
        "\n",
        "prompt = [\"Realistic painting of an autumn scene featuring a tree-lined boulevard with leaves in vibrant colors covering the ground\"] * num_cols\n",
        "\n",
        "all_images = []\n",
        "for i in range(num_rows):\n",
        "  images = pipe(prompt).images\n",
        "  all_images.extend(images)\n",
        "\n",
        "grid = image_grid(all_images, rows=num_rows, cols=num_cols)\n",
        "grid\n"
      ]
    },
    {
      "cell_type": "code",
      "execution_count": null,
      "metadata": {
        "colab": {
          "background_save": true
        },
        "id": "cP8n1drqh-gj"
      },
      "outputs": [],
      "source": [
        "num_cols = 3\n",
        "num_rows = 4\n",
        "\n",
        "prompt = [\"Black and white photograph of a person dressed in 1920s fashion, posing against an old brick building\"] * num_cols\n",
        "\n",
        "all_images = []\n",
        "for i in range(num_rows):\n",
        "  images = pipe(prompt).images\n",
        "  all_images.extend(images)\n",
        "\n",
        "grid = image_grid(all_images, rows=num_rows, cols=num_cols)\n",
        "grid\n"
      ]
    },
    {
      "cell_type": "markdown",
      "source": [
        "# Single Images"
      ],
      "metadata": {
        "id": "mtmS9YEWjdTC"
      }
    },
    {
      "cell_type": "markdown",
      "source": [
        "i will try diff prompts daily and upload or update output here\n"
      ],
      "metadata": {
        "id": "mAlvA7ZosEvy"
      }
    },
    {
      "cell_type": "code",
      "source": [],
      "metadata": {
        "id": "wDmEehgcjLSf"
      },
      "execution_count": null,
      "outputs": []
    },
    {
      "cell_type": "code",
      "source": [
        "prompt = \"Joyful portrait of girlaughing in the rain, using high shutter speed to freeze raindrops\"\n",
        "\n",
        "image = pipe(prompt=prompt).images[0]\n",
        "image"
      ],
      "metadata": {
        "id": "mdMqrGiv6jxx"
      },
      "execution_count": null,
      "outputs": []
    },
    {
      "cell_type": "code",
      "source": [
        "# 1. Portrait of a child playing in a park, using natural lighting and candid expressions\n",
        "prompt = \"Portrait of a child playing in a park, using natural lighting and candid expressions\"\n",
        "image = pipe(prompt).images[0]\n",
        "image\n"
      ],
      "metadata": {
        "id": "Ffh-p3Pg9Gkg"
      },
      "execution_count": null,
      "outputs": []
    },
    {
      "cell_type": "code",
      "source": [
        "# 2. Portrait of a military veteran in uniform, with strong, directional lighting\n",
        "prompt = \"Portrait of a military veteran in uniform, with strong, directional lighting\"\n",
        "image = pipe(prompt).images[0]\n",
        "image\n"
      ],
      "metadata": {
        "id": "WkWPKmqM9vNE"
      },
      "execution_count": null,
      "outputs": []
    },
    {
      "cell_type": "code",
      "source": [
        "\n",
        "# 3. Portrait of a street performer in action with a bustling city as a blurred background\n",
        "prompt = \"Portrait of a street performer in action with a bustling city as a blurred background\"\n",
        "image = pipe(prompt).images[0]\n",
        "image\n"
      ],
      "metadata": {
        "id": "aRG0xWN49x8i"
      },
      "execution_count": null,
      "outputs": []
    },
    {
      "cell_type": "code",
      "source": [
        "\n",
        "# 4. Stylized portrait of an entrepreneur against a city skyline, with dramatic lighting and a futuristic look\n",
        "prompt = \"Stylized portrait of an entrepreneur against a city skyline, with dramatic lighting and a futuristic look\"\n",
        "image = pipe(prompt).images[0]\n",
        "image\n"
      ],
      "metadata": {
        "id": "rpDRbaRE90yl"
      },
      "execution_count": null,
      "outputs": []
    },
    {
      "cell_type": "code",
      "source": [
        "\n",
        "# 5. Portrait of an old fisherman at sea, using natural light to highlight weathered textures\n",
        "prompt = \"Portrait of an old fisherman at sea, using natural light to highlight weathered textures\"\n",
        "image = pipe(prompt).images[0]\n",
        "image\n"
      ],
      "metadata": {
        "id": "2JLrBrCL92bH"
      },
      "execution_count": null,
      "outputs": []
    },
    {
      "cell_type": "code",
      "source": [
        "\n",
        "# 6. Portrait of a professional dancer expressing emotion through movement, with dramatic lighting\n",
        "prompt = \"Portrait of a professional dancer expressing emotion through movement, with dramatic lighting\"\n",
        "image = pipe(prompt).images[0]\n",
        "image\n"
      ],
      "metadata": {
        "id": "oo8C9jlG96pp"
      },
      "execution_count": null,
      "outputs": []
    },
    {
      "cell_type": "code",
      "source": [
        "\n",
        "# 7. Joyful portrait of someone laughing in the rain, using high shutter speed to freeze raindrops\n",
        "prompt = \"Joyful portrait of someone laughing in the rain, using high shutter speed to freeze raindrops\"\n",
        "image = pipe(prompt).images[0]\n",
        "image\n"
      ],
      "metadata": {
        "id": "wuOA5GVE98Jt"
      },
      "execution_count": null,
      "outputs": []
    },
    {
      "cell_type": "code",
      "source": [
        "\n",
        "# 8. Portrait of a lone hiker on a mountain peak during golden hour\n",
        "prompt = \"Portrait of a lone hiker on a mountain peak during golden hour\"\n",
        "image = pipe(prompt).images[0]\n",
        "image\n",
        "\n"
      ],
      "metadata": {
        "id": "RIP1Hv7599x-"
      },
      "execution_count": null,
      "outputs": []
    },
    {
      "cell_type": "code",
      "source": [
        "# 9. Action portrait of an athlete during a game, using fast shutter speed and close-up shots\n",
        "prompt = \"Action portrait of an athlete during a game, using fast shutter speed and close-up shots\"\n",
        "image = pipe(prompt).images[0]\n",
        "image\n",
        "\n"
      ],
      "metadata": {
        "id": "p1X5rh4y9_aQ"
      },
      "execution_count": null,
      "outputs": []
    },
    {
      "cell_type": "code",
      "source": [
        "# 10. Whimsical portrait of a person in a dreamy, natural environment with soft lighting\n",
        "prompt = \"Whimsical portrait of a person in a dreamy, natural environment with soft lighting\"\n",
        "image = pipe(prompt).images[0]\n",
        "image\n"
      ],
      "metadata": {
        "id": "DusSnBo--BFQ"
      },
      "execution_count": null,
      "outputs": []
    },
    {
      "cell_type": "code",
      "source": [
        "# 11. Realistic painting of an autumn scene featuring a tree-lined boulevard with leaves in vibrant colors covering the ground\n",
        "prompt = \"Realistic painting of an autumn scene featuring a tree-lined boulevard with leaves in vibrant colors covering the ground\"\n",
        "image = pipe(prompt).images[0]\n",
        "image\n",
        "\n"
      ],
      "metadata": {
        "id": "XZLXkrAR-Ci4"
      },
      "execution_count": null,
      "outputs": []
    },
    {
      "cell_type": "code",
      "source": [
        "# 12. Black and white photograph of a person dressed in 1920s fashion, posing against an old brick building\n",
        "prompt = \"Black and white photograph of a person dressed in 1920s fashion, posing against an old brick building\"\n",
        "image = pipe(prompt).images[0]\n",
        "image\n"
      ],
      "metadata": {
        "id": "6A1WuVd1-D3O"
      },
      "execution_count": null,
      "outputs": []
    },
    {
      "cell_type": "code",
      "source": [
        "\n",
        "# 13. Realistic painting of a quiet moment between a child and their pet, with an emphasis on expression and mood\n",
        "prompt = \"Realistic painting of a quiet moment between a child and their pet, with an emphasis on expression and mood\"\n",
        "image = pipe(prompt).images[0]\n",
        "image\n",
        "\n"
      ],
      "metadata": {
        "id": "iLUys5yo-FW9"
      },
      "execution_count": null,
      "outputs": []
    },
    {
      "cell_type": "code",
      "source": [
        "# 14. Photograph of a busy city street at dusk, taken from a low angle, with towering buildings and vibrant neon lights\n",
        "prompt = \"Photograph of a busy city street at dusk, taken from a low angle, with towering buildings and vibrant neon lights\"\n",
        "image = pipe(prompt).images[0]\n",
        "image\n"
      ],
      "metadata": {
        "id": "QoCYyhmf-HHi"
      },
      "execution_count": null,
      "outputs": []
    },
    {
      "cell_type": "code",
      "source": [
        "\n",
        "# 15. Realistic painting of a tranquil wilderness scene with a peaceful lake surrounded by towering pine trees at sunset\n",
        "prompt = \"Realistic painting of a tranquil wilderness scene with a peaceful lake surrounded by towering pine trees at sunset\"\n",
        "image = pipe(prompt).images[0]\n",
        "image\n"
      ],
      "metadata": {
        "id": "Fje_YVKg-KxW"
      },
      "execution_count": null,
      "outputs": []
    },
    {
      "cell_type": "code",
      "source": [
        "\n",
        "# 16. High-resolution photograph of everyday objects against a minimalist background, focusing on detail and texture\n",
        "prompt = \"High-resolution photograph of everyday objects against a minimalist background, focusing on detail and texture\"\n",
        "image = pipe(prompt).images[0]\n",
        "image\n"
      ],
      "metadata": {
        "id": "SLBnQlBj-L3Z"
      },
      "execution_count": null,
      "outputs": []
    },
    {
      "cell_type": "code",
      "source": [
        "\n",
        "# 17. Realistic painting of a solitary lighthouse silhouetted against the vibrant colors of a sunset\n",
        "prompt = \"Realistic painting of a solitary lighthouse silhouetted against the vibrant colors of a sunset\"\n",
        "image = pipe(prompt).images[0]\n",
        "image\n"
      ],
      "metadata": {
        "id": "mdXmgfnh-NAq"
      },
      "execution_count": null,
      "outputs": []
    },
    {
      "cell_type": "code",
      "source": [
        "\n",
        "# 18. Long-exposure photograph of a busy intersection at night, capturing the streaks of light from moving vehicles\n",
        "prompt = \"Long-exposure photograph of a busy intersection at night, capturing the streaks of light from moving vehicles\"\n",
        "image = pipe(prompt).images[0]\n",
        "image\n"
      ],
      "metadata": {
        "id": "ZL7WHZ3e-OQo"
      },
      "execution_count": null,
      "outputs": []
    },
    {
      "cell_type": "code",
      "source": [
        "\n",
        "# 19. Realistic painting of a scene beneath a forest canopy, with sunlight filtering through the leaves and rich details on the forest floor\n",
        "prompt = \"Realistic painting of a scene beneath a forest canopy, with sunlight filtering through the leaves and rich details on the forest floor\"\n",
        "image = pipe(prompt).images[0]\n",
        "image\n"
      ],
      "metadata": {
        "id": "6lTktK4q-PRP"
      },
      "execution_count": null,
      "outputs": []
    },
    {
      "cell_type": "code",
      "source": [
        "\n",
        "# 20. Portrait photograph taken during the golden hour, focusing on the warm light and serene atmosphere\n",
        "prompt = \"Portrait photograph taken during the golden hour, focusing on the warm light and serene atmosphere\"\n",
        "image = pipe(prompt).images[0]\n",
        "image\n"
      ],
      "metadata": {
        "id": "y6ax6Evj-QSO"
      },
      "execution_count": null,
      "outputs": []
    },
    {
      "cell_type": "code",
      "source": [
        "\n",
        "# 21. Anime scene of a protagonist fighting shadow creatures in a moonlit forest, highlighting the glowing eyes of the creatures and the determined stance of the protagonist\n",
        "prompt = \"Anime scene of a protagonist fighting shadow creatures in a moonlit forest, highlighting the glowing eyes of the creatures and the determined stance of the protagonist\"\n",
        "image = pipe(prompt).images[0]\n",
        "image\n"
      ],
      "metadata": {
        "id": "mdcFUWaP-R-U"
      },
      "execution_count": null,
      "outputs": []
    },
    {
      "cell_type": "code",
      "source": [
        "\n",
        "# 22. Anime depiction of a futuristic Tokyo, filled with neon-lit skyscrapers, hover vehicles, and traditional elements like a Shinto shrine\n",
        "prompt = \"Anime depiction of a futuristic Tokyo, filled with neon-lit skyscrapers, hover vehicles, and traditional elements like a Shinto shrine\"\n",
        "image = pipe(prompt).images[0]\n",
        "image\n"
      ],
      "metadata": {
        "id": "_wIPbk0T-WHz"
      },
      "execution_count": null,
      "outputs": []
    },
    {
      "cell_type": "code",
      "source": [
        "\n",
        "# 23. Anime scene featuring high school students having fun with their classmates\n",
        "prompt = \"Anime scene featuring high school students having fun with their classmates\"\n",
        "image = pipe(prompt).images[0]\n",
        "image\n",
        "\n"
      ],
      "metadata": {
        "id": "BKf1PBc_-Xkd"
      },
      "execution_count": null,
      "outputs": []
    },
    {
      "cell_type": "code",
      "source": [
        "# 24. Anime illustration of a character bonding with a majestic dragon in a secluded mountain sanctuary, focusing on the size of the dragon and the affectionate interaction\n",
        "prompt = \"Anime illustration of a character bonding with a majestic dragon in a secluded mountain sanctuary, focusing on the size of the dragon and the affectionate interaction\"\n",
        "image = pipe(prompt).images[0]\n",
        "image\n",
        "\n"
      ],
      "metadata": {
        "id": "c8ieRomO-ZOz"
      },
      "execution_count": null,
      "outputs": []
    },
    {
      "cell_type": "code",
      "source": [
        "# 25. Anime depiction of a magic school teeming with students practicing spells and mystical creatures wandering about, rendered in a vibrant color palette and detailed artwork\n",
        "prompt = \"Anime depiction of a magic school teeming with students practicing spells and mystical creatures wandering about, rendered in a vibrant color palette and detailed artwork\"\n",
        "image = pipe(prompt).images[0]\n",
        "image\n"
      ],
      "metadata": {
        "id": "BDbgBIEt-amJ"
      },
      "execution_count": null,
      "outputs": []
    },
    {
      "cell_type": "code",
      "source": [
        "\n",
        "# 26. Anime-style mecha warrior outfitted in heavy armor and futuristic weapons, focusing on dynamic lines and strong color contrast\n",
        "prompt = \"Anime-style mecha warrior outfitted in heavy armor and futuristic weapons, focusing on dynamic lines and strong color contrast\"\n",
        "image = pipe(prompt).images[0]\n",
        "image\n"
      ],
      "metadata": {
        "id": "Kh8qy9qQ-boV"
      },
      "execution_count": null,
      "outputs": []
    },
    {
      "cell_type": "code",
      "source": [
        "# 27. Anime scene of a character encountering spirits in a dense, enchanted forest, featuring a misty background, glowing plants, and whimsical creatures\n",
        "prompt = \"Anime scene of a character encountering spirits in a dense, enchanted forest, featuring a misty background, glowing plants, and whimsical creatures\"\n",
        "image = pipe(prompt).images[0]\n",
        "image"
      ],
      "metadata": {
        "id": "UrlYwH2s-cAC"
      },
      "execution_count": null,
      "outputs": []
    },
    {
      "cell_type": "code",
      "source": [
        "\n",
        "# 28. Anime depiction of a cybernetic samurai in a post-apocalyptic setting, focusing on the intricacies of the armor and weaponry\n",
        "prompt = \"Anime depiction of a cybernetic samurai in a post-apocalyptic setting, focusing on the intricacies of the armor and weaponry\"\n",
        "image = pipe(prompt).images[0]\n",
        "image\n",
        "\n"
      ],
      "metadata": {
        "id": "XSSN5vp_-9B7"
      },
      "execution_count": null,
      "outputs": []
    },
    {
      "cell_type": "code",
      "source": [
        "\n",
        "# 29. Anime scene of a sailor on a fantastical ship navigating the high seas and encountering sirens, focusing on the vivid colors of the sea and sky, and the expressive characters\n",
        "prompt = \"Anime scene of a sailor on a fantastical ship navigating the high seas and encountering sirens, focusing on the vivid colors of the sea and sky, and the expressive characters\"\n",
        "image = pipe(prompt).images[0]\n",
        "image"
      ],
      "metadata": {
        "id": "z_yuSMigDUEd"
      },
      "execution_count": null,
      "outputs": []
    },
    {
      "cell_type": "code",
      "source": [
        "\n",
        "# 30. Anime scene showing a group of warriors making their last stand against a monster army, highlighting the dramatic contrast of light and dark, and the warriors’ expressions of determination\n",
        "prompt = \"Anime scene showing a group of warriors making their last stand against a monster army, highlighting the dramatic contrast of light and dark, and the warriors’ expressions of determination\"\n",
        "image = pipe(prompt).images[0]\n",
        "image\n"
      ],
      "metadata": {
        "id": "rAVd514n--YM"
      },
      "execution_count": null,
      "outputs": []
    },
    {
      "cell_type": "code",
      "source": [
        "\n",
        "# 31. A man sitting on a park bench\n",
        "prompt = \"A man sitting on a park bench\"\n",
        "image = pipe(prompt).images[0]\n",
        "image\n",
        "\n"
      ],
      "metadata": {
        "id": "pZIGJeH8-_bC"
      },
      "execution_count": null,
      "outputs": []
    },
    {
      "cell_type": "code",
      "source": [
        "# 32. A man sitting on a park bench under a tree, golden autumn leaves falling around him\n",
        "prompt = \"A man sitting on a park bench under a tree, golden autumn leaves falling around him\"\n",
        "image = pipe(prompt).images[0]\n",
        "image\n",
        "\n"
      ],
      "metadata": {
        "id": "KJ6Vcp4Q_Aow"
      },
      "execution_count": null,
      "outputs": []
    },
    {
      "cell_type": "code",
      "source": [
        "# 33. Impressionistic painting of an old man sitting on a park bench, feeding pigeons amidst a shower of golden autumn leaves\n",
        "prompt = \"Impressionistic painting of an old man sitting on a park bench, feeding pigeons amidst a shower of golden autumn leaves\"\n",
        "image = pipe(prompt).images[0]\n",
        "image\n",
        "\n"
      ],
      "metadata": {
        "id": "0rUpyl_o_Beh"
      },
      "execution_count": null,
      "outputs": []
    },
    {
      "cell_type": "code",
      "source": [
        "# 34. A laughing robot in the sunset\n",
        "prompt = \"A laughing robot in the sunset\"\n",
        "image = pipe(prompt).images[0]\n",
        "image\n"
      ],
      "metadata": {
        "id": "VxarmMae_C7m"
      },
      "execution_count": null,
      "outputs": []
    },
    {
      "cell_type": "code",
      "source": [
        "# 36. Sci-fi illustration of a futuristic city on a distant planet, with floating skyscrapers and advanced technology.\n",
        "prompt = \"Sci-fi illustration of a futuristic city on a distant planet, with floating skyscrapers and advanced technology\"\n",
        "image = pipe(prompt).images[0]\n",
        "image\n"
      ],
      "metadata": {
        "id": "bRiufsqwDbq_"
      },
      "execution_count": null,
      "outputs": []
    },
    {
      "cell_type": "code",
      "source": [
        "\n",
        "# 37. Surreal digital art of a dream-like underwater world, with floating islands and bioluminescent creatures.\n",
        "prompt = \"Surreal digital art of a dream-like underwater world, with floating islands and bioluminescent creatures\"\n",
        "image = pipe(prompt).images[0]\n",
        "image\n"
      ],
      "metadata": {
        "id": "uSHNImPuDfDG"
      },
      "execution_count": null,
      "outputs": []
    },
    {
      "cell_type": "code",
      "source": [
        "\n",
        "# 38. Portrait of a mythical creature, like a phoenix, in flight with vibrant flames and a dramatic sky in the background.\n",
        "prompt = \"Portrait of a mythical creature, like a phoenix, in flight with vibrant flames and a dramatic sky in the background\"\n",
        "image = pipe(prompt).images[0]\n",
        "image\n"
      ],
      "metadata": {
        "id": "Co1mhObhDfAp"
      },
      "execution_count": null,
      "outputs": []
    },
    {
      "cell_type": "code",
      "source": [
        "\n",
        "# 39. Steampunk-style painting of an airship navigating stormy skies with gears, cogs, and intricate machinery.\n",
        "prompt = \"Steampunk-style painting of an airship navigating stormy skies with gears, cogs, and intricate machinery\"\n",
        "image = pipe(prompt).images[0]\n",
        "image\n"
      ],
      "metadata": {
        "id": "eN7Touz0DjP3"
      },
      "execution_count": null,
      "outputs": []
    },
    {
      "cell_type": "code",
      "source": [
        "\n",
        "# 40. Close-up photograph of a macro world with dewdrops on spiderwebs, showcasing intricate details of nature.\n",
        "prompt = \"Close-up photograph of a macro world with dewdrops on spiderwebs, showcasing intricate details of nature\"\n",
        "image = pipe(prompt).images[0]\n",
        "image\n"
      ],
      "metadata": {
        "id": "4tU3D9LGDjNO"
      },
      "execution_count": null,
      "outputs": []
    },
    {
      "cell_type": "code",
      "source": [
        "\n",
        "# 41. Illustration of a futuristic cyberpunk street scene with neon signs, holograms, and flying cars.\n",
        "prompt = \"Illustration of a futuristic cyberpunk street scene with neon signs, holograms, and flying cars\"\n",
        "image = pipe(prompt).images[0]\n",
        "image\n",
        "\n"
      ],
      "metadata": {
        "id": "hAkUhocXDjLO"
      },
      "execution_count": null,
      "outputs": []
    },
    {
      "cell_type": "code",
      "source": [
        "# 42. Portrait of a mythical forest guardian with glowing eyes and an aura of magic in an enchanted forest.\n",
        "prompt = \"Portrait of a mythical forest guardian with glowing eyes and an aura of magic in an enchanted forest\"\n",
        "image = pipe(prompt).images[0]\n",
        "image\n",
        "\n"
      ],
      "metadata": {
        "id": "ZjGriH6VDjI1"
      },
      "execution_count": null,
      "outputs": []
    },
    {
      "cell_type": "code",
      "source": [
        "# 43. Abstract expressionist painting with bold, vibrant colors and dynamic brushstrokes, conveying energy and emotion.\n",
        "prompt = \"Abstract expressionist painting with bold, vibrant colors and dynamic brushstrokes, conveying energy and emotion\"\n",
        "image = pipe(prompt).images[0]\n",
        "image\n",
        "\n"
      ],
      "metadata": {
        "id": "MnDNr5WrDjGn"
      },
      "execution_count": null,
      "outputs": []
    },
    {
      "cell_type": "code",
      "source": [
        "# 44. Photograph of a vintage typewriter and a cup of coffee on a cozy writing desk, evoking a sense of nostalgia.\n",
        "prompt = \"Photograph of a vintage typewriter and a cup of coffee on a cozy writing desk, evoking a sense of nostalgia\"\n",
        "image = pipe(prompt).images[0]\n",
        "image\n"
      ],
      "metadata": {
        "id": "VFj5fyaqDjDw"
      },
      "execution_count": null,
      "outputs": []
    },
    {
      "cell_type": "code",
      "source": [
        "\n",
        "# 45. Illustration of a space explorer in a spacesuit, standing on the surface of a distant planet with alien landscapes.\n",
        "prompt = \"Illustration of a space explorer in a spacesuit, standing on the surface of a distant planet with alien landscapes\"\n",
        "image = pipe(prompt).images[0]\n",
        "image\n"
      ],
      "metadata": {
        "id": "44KH9cDnDjBQ"
      },
      "execution_count": null,
      "outputs": []
    }
  ]
}